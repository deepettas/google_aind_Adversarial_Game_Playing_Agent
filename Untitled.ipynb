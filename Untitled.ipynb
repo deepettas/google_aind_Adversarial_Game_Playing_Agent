{
 "cells": [
  {
   "cell_type": "code",
   "execution_count": 62,
   "metadata": {},
   "outputs": [],
   "source": [
    "from copy import deepcopy\n",
    "alist = [1,2,3,4]\n"
   ]
  },
  {
   "cell_type": "code",
   "execution_count": 66,
   "metadata": {},
   "outputs": [
    {
     "data": {
      "text/plain": [
       "{(0, 1), (0, 2), (0, 3), (1, 2), (1, 3), (2, 3)}"
      ]
     },
     "execution_count": 66,
     "metadata": {},
     "output_type": "execute_result"
    }
   ],
   "source": [
    "swap_set = set([\n",
    "    tuple(sorted([idxa,idxb])) \n",
    "        for idxa, otheritem in enumerate(alist) \n",
    "            for idxb, item in enumerate(alist) \n",
    "                if item != otheritem\n",
    "])\n",
    "swap_set"
   ]
  },
  {
   "cell_type": "code",
   "execution_count": 67,
   "metadata": {},
   "outputs": [
    {
     "data": {
      "text/plain": [
       "[[2, 1, 3, 4],\n",
       " [1, 3, 2, 4],\n",
       " [1, 4, 3, 2],\n",
       " [1, 2, 4, 3],\n",
       " [4, 2, 3, 1],\n",
       " [3, 2, 1, 4]]"
      ]
     },
     "execution_count": 67,
     "metadata": {},
     "output_type": "execute_result"
    }
   ],
   "source": [
    "def swap(arr, idxa, idxb):\n",
    "    narr = deepcopy(arr)\n",
    "    narr[idxa], narr[idxb] = narr[idxb], narr[idxa]\n",
    "    return narr\n",
    "    \n",
    "neighbours = [swap(alist, swap_action[0],swap_action[1] ) for swap_action in swap_set]\n",
    "neighbours"
   ]
  },
  {
   "cell_type": "code",
   "execution_count": 72,
   "metadata": {},
   "outputs": [
    {
     "data": {
      "text/plain": [
       "[(1, 2), (2, 3), (3, 4)]"
      ]
     },
     "execution_count": 72,
     "metadata": {},
     "output_type": "execute_result"
    }
   ],
   "source": [
    "[fzip for fzip in zip(alist, alist[1:])]"
   ]
  },
  {
   "cell_type": "code",
   "execution_count": 74,
   "metadata": {},
   "outputs": [
    {
     "data": {
      "text/plain": [
       "911000000000000.0"
      ]
     },
     "execution_count": 74,
     "metadata": {},
     "output_type": "execute_result"
    }
   ],
   "source": [
    "check = 2 * 10e3  # 20k\n",
    "net_worth = 91.1 * 10e12 # 91.1 billion"
   ]
  },
  {
   "cell_type": "code",
   "execution_count": 83,
   "metadata": {},
   "outputs": [],
   "source": [
    "money_analogy = net_worth // check\n",
    "water_analogy = 360000 // 0.33 "
   ]
  },
  {
   "cell_type": "code",
   "execution_count": 84,
   "metadata": {},
   "outputs": [
    {
     "name": "stdout",
     "output_type": "stream",
     "text": [
      "45550000000.0 1090909.0\n"
     ]
    }
   ],
   "source": [
    "print(money_analogy, water_analogy)"
   ]
  },
  {
   "cell_type": "code",
   "execution_count": 86,
   "metadata": {},
   "outputs": [
    {
     "data": {
      "text/plain": [
       "41754.0"
      ]
     },
     "execution_count": 86,
     "metadata": {},
     "output_type": "execute_result"
    }
   ],
   "source": [
    "money_analogy // water_analogy"
   ]
  },
  {
   "cell_type": "code",
   "execution_count": null,
   "metadata": {},
   "outputs": [],
   "source": []
  }
 ],
 "metadata": {
  "kernelspec": {
   "display_name": "Python 3",
   "language": "python",
   "name": "python3"
  },
  "language_info": {
   "codemirror_mode": {
    "name": "ipython",
    "version": 3
   },
   "file_extension": ".py",
   "mimetype": "text/x-python",
   "name": "python",
   "nbconvert_exporter": "python",
   "pygments_lexer": "ipython3",
   "version": "3.7.4"
  }
 },
 "nbformat": 4,
 "nbformat_minor": 2
}
